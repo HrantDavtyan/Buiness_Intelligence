{
  "nbformat": 4,
  "nbformat_minor": 0,
  "metadata": {
    "colab": {
      "name": "Plotly1.ipynb",
      "version": "0.3.2",
      "views": {},
      "default_view": {},
      "provenance": [],
      "collapsed_sections": []
    },
    "kernelspec": {
      "name": "python3",
      "display_name": "Python 3"
    }
  },
  "cells": [
    {
      "metadata": {
        "id": "WmgkDWfxOEU7",
        "colab_type": "text"
      },
      "cell_type": "markdown",
      "source": [
        "<h1 align=\"center\">Introduction to Plotly</h1>\n",
        "<h2 align=\"center\">Part 1: common plots</h1>\n",
        "\n",
        "This notebook provides a quick introduction to the **common plots** in Plotly Python library mainly based on the examples from the [official documentation](https://plot.ly/python/). It is accompained with the slides that provide the structural overview of plotting with Plotly. Altough examples are build upon official documentation, they are tuned to be more consistent in terms of structure. Students are encouraged to keep this notebook at hand and use it as a cheatsheet when developing a graph together with Documentation. The content is as follows:\n",
        "\n",
        "\n",
        "\n",
        "1.  [Scatter plot](#scatter)\n",
        "2.  [Line chart](#line)\n",
        "3.  [Pie Chart](#pie)\n",
        "4.  [Bar chart](#bar)\n",
        "5.  [Histogram](#histogram)\n",
        "6.  [Box plot](#box)\n",
        "8.  [Table](#tables)"
      ]
    },
    {
      "metadata": {
        "id": "DuB19VPCQOpS",
        "colab_type": "text"
      },
      "cell_type": "markdown",
      "source": [
        "<a id = \"scatter\"><h1>1) Scatter plot</h1></a>"
      ]
    },
    {
      "metadata": {
        "id": "yAL2ZlJtREVA",
        "colab_type": "text"
      },
      "cell_type": "markdown",
      "source": [
        "## Simple scatter plot"
      ]
    },
    {
      "metadata": {
        "id": "v0mIwyVSTZXR",
        "colab_type": "code",
        "colab": {
          "autoexec": {
            "startup": false,
            "wait_interval": 0
          }
        }
      },
      "cell_type": "code",
      "source": [
        "from plotly.offline import plot, iplot\n",
        "import plotly.graph_objs as go\n",
        "from plotly.offline import init_notebook_mode\n",
        "init_notebook_mode(connected=True)\n",
        "\n",
        "import numpy as np\n",
        "random_x = np.random.randn(1000)\n",
        "random_y = np.random.randn(1000)\n",
        "\n",
        "trace = go.Scatter(\n",
        "    x = random_x,\n",
        "    y = random_y,\n",
        "    mode = 'markers',\n",
        "    name = 'markers',\n",
        "    marker = dict(\n",
        "        size = 10,\n",
        "        color=\"rgba(152,0,0,0.5)\"\n",
        "    )\n",
        ")\n",
        "\n",
        "data = [trace]\n",
        "figure = dict(data=data)\n",
        "iplot(figure)"
      ],
      "execution_count": 0,
      "outputs": []
    },
    {
      "metadata": {
        "id": "yMq0aUbwRn-t",
        "colab_type": "text"
      },
      "cell_type": "markdown",
      "source": [
        "## Styled scatter plot"
      ]
    },
    {
      "metadata": {
        "id": "mjluHG4_Ro31",
        "colab_type": "code",
        "colab": {
          "autoexec": {
            "startup": false,
            "wait_interval": 0
          }
        }
      },
      "cell_type": "code",
      "source": [
        "from plotly.offline import plot, iplot\n",
        "import plotly.graph_objs as go\n",
        "from plotly.offline import init_notebook_mode\n",
        "init_notebook_mode(connected=True)\n",
        "\n",
        "import numpy as np\n",
        "random_x = np.random.randn(1000)\n",
        "random_y = np.random.randn(1000)\n",
        "\n",
        "trace = go.Scatter(\n",
        "    x = random_x,\n",
        "    y = random_y,\n",
        "    mode = 'markers',\n",
        "    name = 'markers',\n",
        "    marker = dict(\n",
        "        size = 10,\n",
        "        color=\"rgba(152,0,0,0.5)\"\n",
        "    )\n",
        ")\n",
        "\n",
        "layout  = dict(title = \"Scatter\",\n",
        "\t\t\t   xaxis = dict(\n",
        "             title = \"X title\",\n",
        "             showgrid=False,\n",
        "             showline=False,\n",
        "             zeroline=False\n",
        "         ),\n",
        "\t\t\t   yaxis = dict(\n",
        "             title = \"Y title\",\n",
        "             showgrid=False,\n",
        "             showline=False,\n",
        "             zeroline=False\n",
        "         )\n",
        "\t\t\t  )\n",
        "\n",
        "\n",
        "data = [trace]\n",
        "figure = dict(data=data,layout=layout)\n",
        "iplot(figure)"
      ],
      "execution_count": 0,
      "outputs": []
    },
    {
      "metadata": {
        "id": "OtruBwyvRC3V",
        "colab_type": "text"
      },
      "cell_type": "markdown",
      "source": [
        "## Multiple scatter plot"
      ]
    },
    {
      "metadata": {
        "id": "6fXnXWK3Sv2M",
        "colab_type": "code",
        "colab": {
          "autoexec": {
            "startup": false,
            "wait_interval": 0
          }
        }
      },
      "cell_type": "code",
      "source": [
        "from plotly.offline import plot, iplot\n",
        "import plotly.graph_objs as go\n",
        "from plotly.offline import init_notebook_mode\n",
        "init_notebook_mode(connected=True)\n",
        "\n",
        "import numpy as np\n",
        "random_x = np.random.randn(1000)\n",
        "random_y = np.random.randn(1000)\n",
        "\n",
        "trace_1 = go.Scatter(\n",
        "    x = random_x,\n",
        "    y = random_y,\n",
        "    mode = 'markers',\n",
        "    name = 'markers_1',\n",
        "    marker = dict(\n",
        "        size = 10,\n",
        "        color=\"rgba(152,0,0,0.5)\"\n",
        "    )\n",
        ")\n",
        "\n",
        "trace_2 = go.Scatter(\n",
        "    x = random_x-5,\n",
        "    y = random_y,\n",
        "    mode = 'markers',\n",
        "    name = 'markers_2',\n",
        "    marker = dict(\n",
        "        color=\"rgba(255,165,0,0.5)\"\n",
        "    )\n",
        ")\n",
        "\n",
        "layout  = dict(title = \"Multiple Scatter\",\n",
        "\t\t\t   xaxis = dict(\n",
        "             title = \"X title\",\n",
        "             showgrid=False,\n",
        "             showline=False,\n",
        "             zeroline=False\n",
        "         ),\n",
        "\t\t\t   yaxis = dict(\n",
        "             title = \"Y title\",\n",
        "             showgrid=False,\n",
        "             showline=False,\n",
        "             zeroline=False\n",
        "         )\n",
        "\t\t\t  )\n",
        "\n",
        "\n",
        "data = [trace_1, trace_2]\n",
        "figure = dict(data=data,layout=layout)\n",
        "iplot(figure)"
      ],
      "execution_count": 0,
      "outputs": []
    },
    {
      "metadata": {
        "id": "Sxc98krwS5Yv",
        "colab_type": "text"
      },
      "cell_type": "markdown",
      "source": [
        "<a id = \"line\"><h1>2) Line chart</h1></a>"
      ]
    },
    {
      "metadata": {
        "id": "t1qvNlTzXXE0",
        "colab_type": "text"
      },
      "cell_type": "markdown",
      "source": [
        "## Simple line chart"
      ]
    },
    {
      "metadata": {
        "id": "mSn4oB5ZTELc",
        "colab_type": "code",
        "colab": {
          "autoexec": {
            "startup": false,
            "wait_interval": 0
          }
        }
      },
      "cell_type": "code",
      "source": [
        "from plotly.offline import plot, iplot\n",
        "import plotly.graph_objs as go\n",
        "from plotly.offline import init_notebook_mode\n",
        "init_notebook_mode(connected=True)\n",
        "\n",
        "import numpy as np\n",
        "random_x = np.linspace(0,1,1000)\n",
        "random_y = np.random.randn(1000)\n",
        "\n",
        "trace = go.Scatter(\n",
        "    x = random_x,\n",
        "    y = random_y,\n",
        "    mode = 'lines',\n",
        "    name = 'lines',\n",
        "    marker = dict(\n",
        "        size = 10,\n",
        "        color=\"rgba(152,0,0,0.5)\"\n",
        "    )\n",
        ")\n",
        "\n",
        "data = [trace]\n",
        "figure = dict(data=data)\n",
        "iplot(figure)"
      ],
      "execution_count": 0,
      "outputs": []
    },
    {
      "metadata": {
        "id": "U6EQB3IgT09y",
        "colab_type": "text"
      },
      "cell_type": "markdown",
      "source": [
        "## Line with Scatter"
      ]
    },
    {
      "metadata": {
        "id": "uajxILz2T7YG",
        "colab_type": "code",
        "colab": {
          "autoexec": {
            "startup": false,
            "wait_interval": 0
          }
        }
      },
      "cell_type": "code",
      "source": [
        "from plotly.offline import plot, iplot\n",
        "import plotly.graph_objs as go\n",
        "from plotly.offline import init_notebook_mode\n",
        "init_notebook_mode(connected=True)\n",
        "\n",
        "import numpy as np\n",
        "random_x_scatter = np.random.randn(1000)\n",
        "random_x_line = np.linspace(0,1,1000)\n",
        "random_y = np.random.randn(1000)\n",
        "\n",
        "trace_1 = go.Scatter(\n",
        "    x = random_x_line,\n",
        "    y = random_y,\n",
        "    mode = 'markers+lines',\n",
        "    name = 'markers and lines',\n",
        "    marker = dict(\n",
        "        size = 10,\n",
        "        color=\"rgba(152,0,0,0.5)\"\n",
        "    )\n",
        ")\n",
        "\n",
        "trace_2 = go.Scatter(\n",
        "    x = random_x_scatter,\n",
        "    y = random_y-5,\n",
        "    mode = 'markers',\n",
        "    name = 'markers only',\n",
        "    marker = dict(\n",
        "        color=\"rgba(255,165,0,0.5)\"\n",
        "    )\n",
        ")\n",
        "\n",
        "layout  = dict(title = \"Line and Scatter\",\n",
        "\t\t\t   xaxis = dict(\n",
        "             title = \"X title\",\n",
        "             showgrid=False,\n",
        "             showline=False,\n",
        "             zeroline=False\n",
        "         ),\n",
        "\t\t\t   yaxis = dict(\n",
        "             title = \"Y title\",\n",
        "             showgrid=False,\n",
        "             showline=False,\n",
        "             zeroline=False\n",
        "         )\n",
        "\t\t\t  )\n",
        "\n",
        "\n",
        "data = [trace_1, trace_2]\n",
        "figure = dict(data=data,layout=layout)\n",
        "iplot(figure)"
      ],
      "execution_count": 0,
      "outputs": []
    },
    {
      "metadata": {
        "id": "8k4aWnSwUZ2B",
        "colab_type": "text"
      },
      "cell_type": "markdown",
      "source": [
        "## Dashed/dotted lines"
      ]
    },
    {
      "metadata": {
        "id": "9l0p2LntUa3I",
        "colab_type": "code",
        "colab": {
          "autoexec": {
            "startup": false,
            "wait_interval": 0
          }
        }
      },
      "cell_type": "code",
      "source": [
        "from plotly.offline import plot, iplot\n",
        "import plotly.graph_objs as go\n",
        "from plotly.offline import init_notebook_mode\n",
        "init_notebook_mode(connected=True)\n",
        "\n",
        "import numpy as np\n",
        "random_x_scatter = np.random.randn(1000)\n",
        "random_x_line = np.linspace(0,1,1000)\n",
        "random_y = np.random.randn(1000)\n",
        "\n",
        "trace_1 = go.Scatter(\n",
        "    x = random_x_line,\n",
        "    y = random_y,\n",
        "    mode = 'lines',\n",
        "    name = 'dashed line',\n",
        "    line = dict(\n",
        "        width = 4,\n",
        "        color=\"rgba(152,0,0,0.5)\",\n",
        "        dash=\"dash\"\n",
        "    )\n",
        ")\n",
        "\n",
        "trace_2 = go.Scatter(\n",
        "    x = random_x_scatter,\n",
        "    y = random_y-5,\n",
        "    mode = 'lines',\n",
        "    name = 'dotted line',\n",
        "    line = dict(\n",
        "        width = 8,\n",
        "        color=\"rgba(255,165,0,0.5)\",\n",
        "        dash=\"dot\"\n",
        "    )\n",
        ")\n",
        "\n",
        "layout  = dict(title = \"Line and Scatter\",\n",
        "\t\t\t   xaxis = dict(\n",
        "             title = \"X title\",\n",
        "             showgrid=False,\n",
        "             showline=False,\n",
        "             zeroline=False\n",
        "         ),\n",
        "\t\t\t   yaxis = dict(\n",
        "             title = \"Y title\",\n",
        "             showgrid=False,\n",
        "             showline=False,\n",
        "             zeroline=False\n",
        "         )\n",
        "\t\t\t  )\n",
        "\n",
        "\n",
        "data = [trace_1, trace_2]\n",
        "figure = dict(data=data,layout=layout)\n",
        "iplot(figure)"
      ],
      "execution_count": 0,
      "outputs": []
    },
    {
      "metadata": {
        "id": "bSooKXfHVEZt",
        "colab_type": "text"
      },
      "cell_type": "markdown",
      "source": [
        "<a id = \"pie\"><h1>3) Pie chart</h1></a>"
      ]
    },
    {
      "metadata": {
        "id": "2vHt161bPJKQ",
        "colab_type": "text"
      },
      "cell_type": "markdown",
      "source": [
        "## Simple pie chart"
      ]
    },
    {
      "metadata": {
        "id": "lgZY5faPVhT3",
        "colab_type": "code",
        "colab": {
          "autoexec": {
            "startup": false,
            "wait_interval": 0
          }
        }
      },
      "cell_type": "code",
      "source": [
        "from plotly.offline import plot, iplot\n",
        "import plotly.graph_objs as go\n",
        "from plotly.offline import init_notebook_mode\n",
        "init_notebook_mode(connected=True)\n",
        "\n",
        "labels = ['HTML/CSS','Python','SQL','Other']\n",
        "values = [15,50,15,20]\n",
        "\n",
        "trace = go.Pie(labels=labels, values=values)\n",
        "\n",
        "data = [trace]\n",
        "figure = dict(data=data)\n",
        "iplot(figure)"
      ],
      "execution_count": 0,
      "outputs": []
    },
    {
      "metadata": {
        "id": "oTNSYTqbVjov",
        "colab_type": "text"
      },
      "cell_type": "markdown",
      "source": [
        "## Styled pie chart"
      ]
    },
    {
      "metadata": {
        "id": "DbmNsL5JVjdP",
        "colab_type": "code",
        "colab": {
          "autoexec": {
            "startup": false,
            "wait_interval": 0
          }
        }
      },
      "cell_type": "code",
      "source": [
        "from plotly.offline import plot, iplot\n",
        "import plotly.graph_objs as go\n",
        "from plotly.offline import init_notebook_mode\n",
        "init_notebook_mode(connected=True)\n",
        "\n",
        "labels = ['HTML/CSS','Python','SQL','Other']\n",
        "values = [15,50,15,20]\n",
        "colors = ['#FEBFB3', '#E1396C', '#96D38C', '#D0F9B1']\n",
        "\n",
        "trace = go.Pie(labels=labels, values=values,\n",
        "               hoverinfo='label+percent', textinfo='percent', \n",
        "               textfont=dict(size=20),\n",
        "               marker=dict(colors=colors)\n",
        "              )\n",
        "\n",
        "data = [trace]\n",
        "figure = dict(data=data)\n",
        "iplot(figure)"
      ],
      "execution_count": 0,
      "outputs": []
    },
    {
      "metadata": {
        "id": "Ll9ncT2bVtWo",
        "colab_type": "text"
      },
      "cell_type": "markdown",
      "source": [
        "## Donuts type pie chart"
      ]
    },
    {
      "metadata": {
        "id": "BJtYbXqvVtMP",
        "colab_type": "code",
        "colab": {
          "autoexec": {
            "startup": false,
            "wait_interval": 0
          }
        }
      },
      "cell_type": "code",
      "source": [
        "from plotly.offline import plot, iplot\n",
        "import plotly.graph_objs as go\n",
        "from plotly.offline import init_notebook_mode\n",
        "init_notebook_mode(connected=True)\n",
        "\n",
        "labels = ['HTML/CSS','Python','SQL','Other']\n",
        "values = [15,50,15,20]\n",
        "colors = ['#FEBFB3', '#E1396C', '#96D38C', '#D0F9B1']\n",
        "\n",
        "trace = go.Pie(labels=labels, values=values,\n",
        "               hoverinfo='label+percent', textinfo='value', \n",
        "               textfont=dict(size=20),\n",
        "               marker=dict(colors=colors),\n",
        "               hole = 0.4,\n",
        "              )\n",
        "\n",
        "data = [trace]\n",
        "figure = dict(data=data)\n",
        "iplot(figure)"
      ],
      "execution_count": 0,
      "outputs": []
    },
    {
      "metadata": {
        "id": "jK9rVGDfVQTd",
        "colab_type": "text"
      },
      "cell_type": "markdown",
      "source": [
        "<a id = \"bar\"><h1>4) Bar chart</h1></a>"
      ]
    },
    {
      "metadata": {
        "id": "nK4oom7hSH2G",
        "colab_type": "text"
      },
      "cell_type": "markdown",
      "source": [
        "## Simple bar chart"
      ]
    },
    {
      "metadata": {
        "id": "-Huzxdk-V2kz",
        "colab_type": "code",
        "colab": {
          "autoexec": {
            "startup": false,
            "wait_interval": 0
          }
        }
      },
      "cell_type": "code",
      "source": [
        "from plotly.offline import plot, iplot\n",
        "import plotly.graph_objs as go\n",
        "from plotly.offline import init_notebook_mode\n",
        "init_notebook_mode(connected=True)\n",
        "\n",
        "x_values = ['HTML/CSS','Python','SQL','Other']\n",
        "y_values = [15,50,15,20]\n",
        "\n",
        "trace = go.Bar(x=x_values, y=y_values)\n",
        "\n",
        "data = [trace]\n",
        "figure = dict(data=data)\n",
        "iplot(figure)"
      ],
      "execution_count": 0,
      "outputs": []
    },
    {
      "metadata": {
        "id": "soWsx7vpV9A7",
        "colab_type": "text"
      },
      "cell_type": "markdown",
      "source": [
        "## Grouped/stacked bar chart"
      ]
    },
    {
      "metadata": {
        "id": "F7WE4MVIV84L",
        "colab_type": "code",
        "colab": {
          "autoexec": {
            "startup": false,
            "wait_interval": 0
          }
        }
      },
      "cell_type": "code",
      "source": [
        "from plotly.offline import plot, iplot\n",
        "import plotly.graph_objs as go\n",
        "from plotly.offline import init_notebook_mode\n",
        "init_notebook_mode(connected=True)\n",
        "\n",
        "x_values = ['HTML/CSS','Python','SQL','Other']\n",
        "y_values_1 = [15,50,15,20]\n",
        "y_values_2 = [15,50,5,35]\n",
        "\n",
        "trace_1 = go.Bar(x=x_values, y=y_values_1, name=\"Coverage\")\n",
        "trace_2 = go.Bar(x=x_values, y=y_values_2, name=\"Difficulty\")\n",
        "\n",
        "layout = dict(barmode = 'group')\n",
        "#layout = dict(barmode = 'stack')\n",
        "\n",
        "data = [trace_1,trace_2]\n",
        "figure = dict(data=data,layout=layout)\n",
        "iplot(figure)"
      ],
      "execution_count": 0,
      "outputs": []
    },
    {
      "metadata": {
        "id": "cT22zZgGWXYc",
        "colab_type": "text"
      },
      "cell_type": "markdown",
      "source": [
        "<a id = \"histogram\"><h1>5) Histogram</h1></a>"
      ]
    },
    {
      "metadata": {
        "id": "eYOuCPNqaX-_",
        "colab_type": "text"
      },
      "cell_type": "markdown",
      "source": [
        "## Simple vertical histogram"
      ]
    },
    {
      "metadata": {
        "id": "Ld0UdTyXWsZB",
        "colab_type": "code",
        "colab": {
          "autoexec": {
            "startup": false,
            "wait_interval": 0
          }
        }
      },
      "cell_type": "code",
      "source": [
        "from plotly.offline import plot, iplot\n",
        "import plotly.graph_objs as go\n",
        "from plotly.offline import init_notebook_mode\n",
        "init_notebook_mode(connected=True)\n",
        "\n",
        "import numpy as np\n",
        "x_values = np.random.randn(500)\n",
        "trace = go.Histogram(x=x_values)\n",
        "\n",
        "data = [trace]\n",
        "figure = dict(data=data)\n",
        "iplot(figure)"
      ],
      "execution_count": 0,
      "outputs": []
    },
    {
      "metadata": {
        "id": "sT84zXZqWuDA",
        "colab_type": "text"
      },
      "cell_type": "markdown",
      "source": [
        "## Simple horizontal histogram"
      ]
    },
    {
      "metadata": {
        "id": "si7u1SaPWt6R",
        "colab_type": "code",
        "colab": {
          "autoexec": {
            "startup": false,
            "wait_interval": 0
          }
        }
      },
      "cell_type": "code",
      "source": [
        "from plotly.offline import plot, iplot\n",
        "import plotly.graph_objs as go\n",
        "from plotly.offline import init_notebook_mode\n",
        "init_notebook_mode(connected=True)\n",
        "\n",
        "import numpy as np\n",
        "y_values = np.random.randn(500)\n",
        "trace = go.Histogram(y=y_values)\n",
        "\n",
        "data = [trace]\n",
        "figure = dict(data=data)\n",
        "iplot(figure)"
      ],
      "execution_count": 0,
      "outputs": []
    },
    {
      "metadata": {
        "id": "DwrdFgeNW8D9",
        "colab_type": "text"
      },
      "cell_type": "markdown",
      "source": [
        "## Overlaid histograms"
      ]
    },
    {
      "metadata": {
        "id": "Bmz8mg5AW81O",
        "colab_type": "code",
        "colab": {
          "autoexec": {
            "startup": false,
            "wait_interval": 0
          }
        }
      },
      "cell_type": "code",
      "source": [
        "from plotly.offline import plot, iplot\n",
        "import plotly.graph_objs as go\n",
        "from plotly.offline import init_notebook_mode\n",
        "init_notebook_mode(connected=True)\n",
        "\n",
        "import numpy as np\n",
        "x_values = np.random.randn(500)\n",
        "\n",
        "trace_1 = go.Histogram(x=x_values)\n",
        "trace_2 = go.Histogram(x=x_values+2)\n",
        "\n",
        "layout = dict(barmode='overlay')\n",
        "\n",
        "data = [trace_1,trace_2]\n",
        "figure = dict(data=data, layout=layout)\n",
        "iplot(figure)"
      ],
      "execution_count": 0,
      "outputs": []
    },
    {
      "metadata": {
        "id": "nX1RVk2QXnTH",
        "colab_type": "text"
      },
      "cell_type": "markdown",
      "source": [
        "<a id = \"box\"><h1>6) Box plot</h1></a>"
      ]
    },
    {
      "metadata": {
        "id": "y1cqY1dtb7IK",
        "colab_type": "text"
      },
      "cell_type": "markdown",
      "source": [
        "## Simple vertical box plot"
      ]
    },
    {
      "metadata": {
        "id": "q5m2WIQCYG95",
        "colab_type": "code",
        "colab": {
          "autoexec": {
            "startup": false,
            "wait_interval": 0
          }
        }
      },
      "cell_type": "code",
      "source": [
        "from plotly.offline import plot, iplot\n",
        "import plotly.graph_objs as go\n",
        "from plotly.offline import init_notebook_mode\n",
        "init_notebook_mode(connected=True)\n",
        "\n",
        "import numpy as np\n",
        "y_values = np.random.randn(500)\n",
        "\n",
        "trace_1 = go.Box(y=y_values)\n",
        "trace_2 = go.Box(y=y_values+2)\n",
        "\n",
        "data = [trace_1,trace_2]\n",
        "figure = dict(data=data)\n",
        "iplot(figure)"
      ],
      "execution_count": 0,
      "outputs": []
    },
    {
      "metadata": {
        "id": "uZqLp9A1YF8Z",
        "colab_type": "text"
      },
      "cell_type": "markdown",
      "source": [
        "## Simple horizontal box plot"
      ]
    },
    {
      "metadata": {
        "id": "gyl8BET8YFwG",
        "colab_type": "code",
        "colab": {
          "autoexec": {
            "startup": false,
            "wait_interval": 0
          }
        }
      },
      "cell_type": "code",
      "source": [
        "from plotly.offline import plot, iplot\n",
        "import plotly.graph_objs as go\n",
        "from plotly.offline import init_notebook_mode\n",
        "init_notebook_mode(connected=True)\n",
        "\n",
        "import numpy as np\n",
        "x_values = np.random.randn(500)\n",
        "\n",
        "trace_1 = go.Box(x=x_values)\n",
        "trace_2 = go.Box(x=x_values+2)\n",
        "\n",
        "data = [trace_1,trace_2]\n",
        "figure = dict(data=data)\n",
        "iplot(figure)"
      ],
      "execution_count": 0,
      "outputs": []
    },
    {
      "metadata": {
        "id": "N9Go6zmmIOgi",
        "colab_type": "text"
      },
      "cell_type": "markdown",
      "source": [
        "<a id = \"table\"><h1>7) Table</h1></a>"
      ]
    },
    {
      "metadata": {
        "id": "DfOPtNZ2IUtV",
        "colab_type": "text"
      },
      "cell_type": "markdown",
      "source": [
        "## Simple table"
      ]
    },
    {
      "metadata": {
        "id": "9YQu1hEHIUOJ",
        "colab_type": "code",
        "colab": {
          "autoexec": {
            "startup": false,
            "wait_interval": 0
          }
        }
      },
      "cell_type": "code",
      "source": [
        "from plotly.offline import plot, iplot\n",
        "import plotly.graph_objs as go\n",
        "from plotly.offline import init_notebook_mode\n",
        "init_notebook_mode(connected=True)\n",
        "\n",
        "header = dict(values=['Percentage', 'Letter grade'])\n",
        "cells = dict(values=[ [90-100, 80-90, 70-80, 60-70], [\"A\", \"B\", \"C\", \"D\"] ])\n",
        "trace = go.Table(header=header, cells=cells)\n",
        "\n",
        "data = [trace]\n",
        "figure = dict(data=data)\n",
        "iplot(figure)"
      ],
      "execution_count": 0,
      "outputs": []
    },
    {
      "metadata": {
        "id": "W6KCTQlOJ9T2",
        "colab_type": "text"
      },
      "cell_type": "markdown",
      "source": [
        "## Styled table"
      ]
    },
    {
      "metadata": {
        "id": "LqLjEceRIUKw",
        "colab_type": "code",
        "colab": {
          "autoexec": {
            "startup": false,
            "wait_interval": 0
          }
        }
      },
      "cell_type": "code",
      "source": [
        "from plotly.offline import plot, iplot\n",
        "import plotly.graph_objs as go\n",
        "from plotly.offline import init_notebook_mode\n",
        "init_notebook_mode(connected=True)\n",
        "\n",
        "header = dict(values=['Percentage','Letter grade'],\n",
        "              align = ['left','center'],\n",
        "              font = dict(color = 'white', size = 12),\n",
        "              fill = dict(color='#119DFF')\n",
        "             )\n",
        "cells = dict(values=[[\"90-100\", \"80-90\", \"70-80\", \"60-70\"],\n",
        "                     [\"A\", \"B\", \"C\", \"D\"]],\n",
        "             align = ['left','center'],\n",
        "             fill = dict(color=[\"yellow\",\"white\"])\n",
        "            )\n",
        "trace = go.Table(header=header, cells=cells)\n",
        "\n",
        "data = [trace]\n",
        "layout = dict(width=500, height=300)\n",
        "figure = dict(data=data, layout=layout)\n",
        "iplot(figure)"
      ],
      "execution_count": 0,
      "outputs": []
    }
  ]
}